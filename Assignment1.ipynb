{
  "nbformat": 4,
  "nbformat_minor": 0,
  "metadata": {
    "colab": {
      "provenance": []
    },
    "kernelspec": {
      "name": "python3",
      "display_name": "Python 3"
    },
    "language_info": {
      "name": "python"
    }
  },
  "cells": [
    {
      "cell_type": "markdown",
      "source": [
        "#Assignment No.1\n",
        "\n",
        "1.What is Python, and why is it popular ?\n",
        "- Python is popular because it's easy to learn, efficient, and can run on many different platforms. It's also versatile, flexible, and has a robust community and mature resources available.\n",
        "\n",
        "2.What is an interpreter in Python?\n",
        "\n",
        "- A Python interpreter is a computer program that reads and executes Python code line by line\n",
        "- The interpreter translates the Python code into machine-readable bytecode, and then executes the bytecode.\n",
        "\n",
        "3.What are pre-defined keywords in Python ?\n",
        "\n",
        "- Pre-defined keywords in Python are reserved words with specific meanings and purposes that define the syntax and structure of the code\n",
        "\n",
        "- Keywords are used to define the syntax of the coding. The keyword cannot be used as an identifier\n",
        "\n",
        "4.Can keywords be used as variable names?\n",
        "\n",
        "- Variable names cannot be Python keywords. They must start with a letter or underscore, and can only contain alpha-numeric characters and underscores. Variable names are also case-sensitive\n",
        "\n",
        "5.What is mutability in Python?\n",
        "\n",
        "- Objects that can be changed after they have been created. Examples of mutable objects include lists, dictionaries, and sets.\n",
        "\n",
        "- Mutability is important because it allows you to modify data without creating copies of the object each time. This is especially useful when dealing with large datasets, as it's more memory-efficient than creating new copies\n",
        "\n",
        "6.Why are lists mutable, but tuples are immutable?\n",
        "\n",
        "- tuples and lists is that tuples are immutable, meaning their contents cannot be changed after creation, while lists are mutable and can be modified. Additionally, tuples are more memory-efficient compared to lists. Tuples can't be changed after they're created, but lists can be modified.\n",
        "\n",
        "7."
      ],
      "metadata": {
        "id": "U_ZPFOQevJPh"
      }
    },
    {
      "cell_type": "code",
      "execution_count": null,
      "metadata": {
        "id": "kAGuTEJ2uyId"
      },
      "outputs": [],
      "source": []
    }
  ]
}